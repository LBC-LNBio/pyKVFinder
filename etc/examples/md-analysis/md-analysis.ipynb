{
 "cells": [
  {
   "cell_type": "markdown",
   "id": "unknown-withdrawal",
   "metadata": {},
   "source": [
    "# Requirements"
   ]
  },
  {
   "cell_type": "code",
   "execution_count": 1,
   "id": "induced-completion",
   "metadata": {},
   "outputs": [
    {
     "data": {
      "application/vnd.jupyter.widget-view+json": {
       "model_id": "d9841f2dd91c437ea7a8483467252976",
       "version_major": 2,
       "version_minor": 0
      },
      "text/plain": []
     },
     "metadata": {},
     "output_type": "display_data"
    }
   ],
   "source": [
    "# Import required modules\n",
    "import os\n",
    "import toml\n",
    "import zipfile\n",
    "import numpy\n",
    "import matplotlib.pyplot as plt\n",
    "import pandas as pd\n",
    "import pyKVFinder\n",
    "import nglview"
   ]
  },
  {
   "cell_type": "code",
   "execution_count": 2,
   "id": "associate-adaptation",
   "metadata": {},
   "outputs": [],
   "source": [
    "# Unzip required files\n",
    "if not os.path.isdir('./data'):\n",
    "    with zipfile.ZipFile('./data.zip', 'r') as zipped:\n",
    "        zipped.extractall('./data')"
   ]
  },
  {
   "cell_type": "code",
   "execution_count": 3,
   "id": "operational-employment",
   "metadata": {},
   "outputs": [
    {
     "name": "stdout",
     "output_type": "stream",
     "text": [
      "['001.pdb', '002.pdb', '003.pdb', '004.pdb', '005.pdb', '006.pdb', '007.pdb', '008.pdb', '009.pdb', '010.pdb', '011.pdb', '012.pdb', '013.pdb', '014.pdb', '015.pdb', '016.pdb', '017.pdb', '018.pdb', '019.pdb', '020.pdb', '021.pdb', '022.pdb', '023.pdb', '024.pdb', '025.pdb', '026.pdb', '027.pdb', '028.pdb', '029.pdb', '030.pdb', '031.pdb', '032.pdb', '033.pdb', '034.pdb', '035.pdb', '036.pdb', '037.pdb', '038.pdb', '039.pdb', '040.pdb', '041.pdb', '042.pdb', '043.pdb', '044.pdb', '045.pdb', '046.pdb', '047.pdb', '048.pdb', '049.pdb', '050.pdb', '051.pdb', '052.pdb', '053.pdb', '054.pdb', '055.pdb', '056.pdb', '057.pdb', '058.pdb', '059.pdb', '060.pdb', '061.pdb', '062.pdb', '063.pdb', '064.pdb', '065.pdb', '066.pdb', '067.pdb', '068.pdb', '069.pdb', '070.pdb', '071.pdb', '072.pdb', '073.pdb', '074.pdb', '075.pdb', '076.pdb', '077.pdb', '078.pdb', '079.pdb', '080.pdb', '081.pdb', '082.pdb', '083.pdb', '084.pdb', '085.pdb', '086.pdb', '087.pdb', '088.pdb', '089.pdb', '090.pdb', '091.pdb', '092.pdb', '093.pdb', '094.pdb', '095.pdb', '096.pdb', '097.pdb', '098.pdb', '099.pdb', '100.pdb', '101.pdb', '102.pdb', '103.pdb', '104.pdb', '105.pdb', '106.pdb', '107.pdb', '108.pdb', '109.pdb', '110.pdb', '111.pdb', '112.pdb', '113.pdb', '114.pdb', '115.pdb', '116.pdb', '117.pdb', '118.pdb', '119.pdb', '120.pdb', '121.pdb', '122.pdb', '123.pdb', '124.pdb', '125.pdb', '126.pdb', '127.pdb', '128.pdb', '129.pdb', '130.pdb', '131.pdb', '132.pdb', '133.pdb', '134.pdb', '135.pdb', '136.pdb', '137.pdb', '138.pdb', '139.pdb', '140.pdb', '141.pdb', '142.pdb', '143.pdb', '144.pdb', '145.pdb', '146.pdb', '147.pdb', '148.pdb', '149.pdb', '150.pdb', '151.pdb', '152.pdb', '153.pdb', '154.pdb', '155.pdb', '156.pdb', '157.pdb', '158.pdb', '159.pdb', '160.pdb', '161.pdb', '162.pdb', '163.pdb', '164.pdb', '165.pdb', '166.pdb', '167.pdb', '168.pdb', '169.pdb', '170.pdb', '171.pdb', '172.pdb', '173.pdb', '174.pdb', '175.pdb', '176.pdb', '177.pdb', '178.pdb', '179.pdb', '180.pdb', '181.pdb', '182.pdb', '183.pdb', '184.pdb', '185.pdb', '186.pdb', '187.pdb', '188.pdb', '189.pdb', '190.pdb', '191.pdb', '192.pdb', '193.pdb', '194.pdb', '195.pdb', '196.pdb', '197.pdb', '198.pdb', '199.pdb', '200.pdb', '201.pdb', '202.pdb', '203.pdb', '204.pdb', '205.pdb', '206.pdb', '207.pdb', '208.pdb', '209.pdb', '210.pdb', '211.pdb', '212.pdb', '213.pdb', '214.pdb', '215.pdb', '216.pdb', '217.pdb', '218.pdb', '219.pdb', '220.pdb', '221.pdb', '222.pdb', '223.pdb', '224.pdb', '225.pdb', '226.pdb', '227.pdb', '228.pdb', '229.pdb', '230.pdb', '231.pdb', '232.pdb', '233.pdb', '234.pdb', '235.pdb', '236.pdb', '237.pdb', '238.pdb', '239.pdb', '240.pdb', '241.pdb', '242.pdb', '243.pdb', '244.pdb', '245.pdb', '246.pdb', '247.pdb', '248.pdb', '249.pdb', '250.pdb', '251.pdb', '252.pdb', '253.pdb', '254.pdb', '255.pdb', '256.pdb', '257.pdb', '258.pdb', '259.pdb', '260.pdb', '261.pdb', '262.pdb', '263.pdb', '264.pdb', '265.pdb', '266.pdb', '267.pdb', '268.pdb', '269.pdb', '270.pdb', '271.pdb', '272.pdb', '273.pdb', '274.pdb', '275.pdb', '276.pdb', '277.pdb', '278.pdb', '279.pdb', '280.pdb', '281.pdb', '282.pdb', '283.pdb', '284.pdb', '285.pdb', '286.pdb', '287.pdb', '288.pdb', '289.pdb', '290.pdb', '291.pdb', '292.pdb', '293.pdb', '294.pdb', '295.pdb', '296.pdb', '297.pdb', '298.pdb', '299.pdb', '300.pdb', '301.pdb', '302.pdb', '303.pdb', '304.pdb', '305.pdb', '306.pdb', '307.pdb', '308.pdb', '309.pdb', '310.pdb', '311.pdb', '312.pdb', '313.pdb', '314.pdb', '315.pdb', '316.pdb', '317.pdb', '318.pdb', '319.pdb', '320.pdb', '321.pdb', '322.pdb', '323.pdb', '324.pdb', '325.pdb', '326.pdb', '327.pdb', '328.pdb', '329.pdb', '330.pdb', '331.pdb', '332.pdb', '333.pdb', '334.pdb', '335.pdb', '336.pdb', '337.pdb', '338.pdb', '339.pdb', '340.pdb', '341.pdb', '342.pdb', '343.pdb', '344.pdb', '345.pdb', '346.pdb', '347.pdb', '348.pdb', '349.pdb', '350.pdb', '351.pdb', '352.pdb', '353.pdb', '354.pdb', '355.pdb', '356.pdb', '357.pdb', '358.pdb', '359.pdb', '360.pdb', '361.pdb', '362.pdb', '363.pdb', '364.pdb', '365.pdb', '366.pdb', '367.pdb', '368.pdb', '369.pdb', '370.pdb', '371.pdb', '372.pdb', '373.pdb', '374.pdb', '375.pdb', '376.pdb', '377.pdb', '378.pdb', '379.pdb', '380.pdb', '381.pdb', '382.pdb', '383.pdb', '384.pdb', '385.pdb', '386.pdb', '387.pdb', '388.pdb', '389.pdb', '390.pdb', '391.pdb', '392.pdb', '393.pdb', '394.pdb', '395.pdb', '396.pdb', '397.pdb', '398.pdb', '399.pdb', '400.pdb', '401.pdb', '402.pdb', '403.pdb', '404.pdb', '405.pdb', '406.pdb', '407.pdb', '408.pdb', '409.pdb', '410.pdb', '411.pdb', '412.pdb', '413.pdb', '414.pdb', '415.pdb', '416.pdb', '417.pdb', '418.pdb', '419.pdb', '420.pdb', '421.pdb', '422.pdb', '423.pdb', '424.pdb', '425.pdb', '426.pdb', '427.pdb', '428.pdb', '429.pdb', '430.pdb', '431.pdb', '432.pdb', '433.pdb', '434.pdb', '435.pdb', '436.pdb', '437.pdb', '438.pdb', '439.pdb', '440.pdb', '441.pdb', '442.pdb', '443.pdb', '444.pdb', '445.pdb', '446.pdb', '447.pdb', '448.pdb', '449.pdb', '450.pdb', '451.pdb', '452.pdb', '453.pdb', '454.pdb', '455.pdb', '456.pdb', '457.pdb', '458.pdb', '459.pdb', '460.pdb', '461.pdb', '462.pdb', '463.pdb', '464.pdb', '465.pdb', '466.pdb', '467.pdb', '468.pdb', '469.pdb', '470.pdb', '471.pdb', '472.pdb', '473.pdb', '474.pdb', '475.pdb', '476.pdb', '477.pdb', '478.pdb', '479.pdb', '480.pdb', '481.pdb', '482.pdb', '483.pdb', '484.pdb', '485.pdb', '486.pdb', '487.pdb', '488.pdb', '489.pdb', '490.pdb', '491.pdb', '492.pdb', '493.pdb', '494.pdb', '495.pdb', '496.pdb', '497.pdb', '498.pdb', '499.pdb', '500.pdb', '501.pdb', '502.pdb', '503.pdb', '504.pdb', '505.pdb', '506.pdb', '507.pdb', '508.pdb', '509.pdb', '510.pdb', '511.pdb', '512.pdb', '513.pdb', '514.pdb', '515.pdb', '516.pdb', '517.pdb', '518.pdb', '519.pdb', '520.pdb', '521.pdb', '522.pdb', '523.pdb', '524.pdb', '525.pdb', '526.pdb', '527.pdb', '528.pdb', '529.pdb', '530.pdb', '531.pdb', '532.pdb', '533.pdb', '534.pdb', '535.pdb', '536.pdb', '537.pdb', '538.pdb', '539.pdb', '540.pdb', '541.pdb', '542.pdb', '543.pdb', '544.pdb', '545.pdb', '546.pdb', '547.pdb', '548.pdb', '549.pdb', '550.pdb', '551.pdb', '552.pdb', '553.pdb', '554.pdb', '555.pdb', '556.pdb', '557.pdb', '558.pdb', '559.pdb', '560.pdb', '561.pdb', '562.pdb', '563.pdb', '564.pdb', '565.pdb', '566.pdb', '567.pdb', '568.pdb', '569.pdb', '570.pdb', '571.pdb', '572.pdb', '573.pdb', '574.pdb', '575.pdb', '576.pdb', '577.pdb', '578.pdb', '579.pdb', '580.pdb', '581.pdb', '582.pdb', '583.pdb', '584.pdb', '585.pdb', '586.pdb', '587.pdb', '588.pdb', '589.pdb', '590.pdb', '591.pdb', '592.pdb', '593.pdb', '594.pdb', '595.pdb', '596.pdb', '597.pdb', '598.pdb', '599.pdb', '600.pdb']\n"
     ]
    }
   ],
   "source": [
    "# Get all frames of the molecular dynamics simulation\n",
    "frames = [f for f in sorted(os.listdir('./data')) if f.endswith('.pdb')][:-2]\n",
    "print(frames)\n",
    "\n",
    "# Get ligand pdb\n",
    "ligand = './data/APR.pdb'\n",
    "\n",
    "# Get reference protein\n",
    "reference = './data/reference.pdb'"
   ]
  },
  {
   "cell_type": "code",
   "execution_count": 4,
   "id": "passive-jewelry",
   "metadata": {},
   "outputs": [],
   "source": [
    "# Define a common custom box using parKVFinder's PyMOL plugin\n",
    "box = {\n",
    "    'box':{\n",
    "        'p1': [ 2.03, -3.97, 7.72,],\n",
    "        'p2': [ 18.93, -3.97, 7.72,],\n",
    "        'p3': [ 2.03, 16.23, 7.72,],\n",
    "        'p4': [ 2.03, -3.97, 33.72,],\n",
    "    }\n",
    "}\n",
    "\n",
    "# Write common custom box to file\n",
    "with open('box.toml', 'w') as f:\n",
    "    toml.dump(box, f)"
   ]
  },
  {
   "cell_type": "markdown",
   "id": "large-catalog",
   "metadata": {},
   "source": [
    "# Cavity detection and characterization on reference"
   ]
  },
  {
   "cell_type": "code",
   "execution_count": 5,
   "id": "prerequisite-language",
   "metadata": {},
   "outputs": [],
   "source": [
    "# Detect and characterize cavities on reference\n",
    "results = pyKVFinder.pyKVFinder(reference, probe_out=12.0, volume_cutoff=100.0, box='./box.toml', include_depth=True, include_hydropathy=True, ignore_backbone=True)\n",
    "\n",
    "# Export cavities and results\n",
    "results.export_all(fn='./results/6W02/6W02.results.toml', output='./results/6W02/6W02.output.pdb', output_hydropathy='./results/6W02/6W02.EisenbergWeiss.pdb', include_frequencies_pdf=True, pdf='./results/6W02/6W02.histograms.pdf')"
   ]
  },
  {
   "cell_type": "code",
   "execution_count": 6,
   "id": "aerial-genius",
   "metadata": {},
   "outputs": [
    {
     "data": {
      "application/vnd.jupyter.widget-view+json": {
       "model_id": "21f2a75afe1746bea6de8aa3b1f6acb4",
       "version_major": 2,
       "version_minor": 0
      },
      "text/plain": [
       "NGLWidget()"
      ]
     },
     "metadata": {},
     "output_type": "display_data"
    }
   ],
   "source": [
    "# Visualize depth of cavity points (rainbow scale)\n",
    "\n",
    "# Create NGL Viewer widget\n",
    "view = nglview.NGLWidget()\n",
    "\n",
    "# Disply referece 6W02 as grey cartoon\n",
    "pdb = view.add_component(reference)\n",
    "pdb.clear()\n",
    "pdb.add_cartoon(color='grey', opacity=0.5)\n",
    "\n",
    "# Display ligand\n",
    "lig = view.add_component(ligand)\n",
    "lig.clear()\n",
    "lig.add_licorice(color='red')\n",
    "\n",
    "# Display cavities colored by depth\n",
    "cavs = view.add_component('./results/6W02/6W02.output.pdb')\n",
    "cavs.clear()\n",
    "cavs.add_surface(colorScheme='bfactor', colorScale='rainbow', colorReverse=True, surfaceType='vws', probeRadius=0.3, opacity=0.8)\n",
    "\n",
    "# Display on NGL viewer\n",
    "view"
   ]
  },
  {
   "cell_type": "code",
   "execution_count": 7,
   "id": "smart-buying",
   "metadata": {},
   "outputs": [
    {
     "data": {
      "application/vnd.jupyter.widget-view+json": {
       "model_id": "fafff5b62f0f4968bf193bf891dcd569",
       "version_major": 2,
       "version_minor": 0
      },
      "text/plain": [
       "NGLWidget()"
      ]
     },
     "metadata": {},
     "output_type": "display_data"
    }
   ],
   "source": [
    "# Visualize hydropathy of surface points (yellow-white-blue scale)\n",
    "\n",
    "# Create NGL Viewer widget\n",
    "view = nglview.NGLWidget()\n",
    "\n",
    "# Disply referece 6W02 as grey cartoon\n",
    "pdb = view.add_component(reference)\n",
    "pdb.clear()\n",
    "pdb.add_cartoon(color='grey', opacity=0.5)\n",
    "\n",
    "# Display ligand\n",
    "lig = view.add_component(ligand)\n",
    "lig.clear()\n",
    "lig.add_licorice(color='red')\n",
    "\n",
    "# Display surface points colored by hydrophobicity\n",
    "cavs = view.add_component('./results/6W02/6W02.EisenbergWeiss.pdb')\n",
    "cavs.clear()\n",
    "cavs.add_surface(colorScheme='bfactor', colorMode='rgb', colorScale=[0xFFFF00, 0xffffff, 0x0000FF], surfaceType='vws', probeRadius=0.3, opacity=0.8)\n",
    "\n",
    "# Display on NGL viewer\n",
    "view"
   ]
  },
  {
   "cell_type": "markdown",
   "id": "attended-disney",
   "metadata": {},
   "source": [
    "# Occurrence analysis"
   ]
  },
  {
   "cell_type": "code",
   "execution_count": 8,
   "id": "golden-determination",
   "metadata": {},
   "outputs": [],
   "source": [
    "# Read van der Waals dictionary\n",
    "vdw = pyKVFinder.read_vdw()\n",
    "\n",
    "# Read ligand coordinates\n",
    "_, lxyzr = pyKVFinder.read_pdb(ligand, vdw)\n",
    "\n",
    "# Create empty array\n",
    "occurrence = None\n",
    "\n",
    "for frame in frames:\n",
    "    # Load atomic coordinates and information\n",
    "    resinfo, xyzr = pyKVFinder.read_pdb(os.path.join('./data', frame), vdw)\n",
    "    \n",
    "    # Get grid from file\n",
    "    vertices, resinfo, xyzr, sincos, nx, ny, nz = pyKVFinder.get_grid_from_file('./box.toml', resinfo, xyzr, probe_out=12.0)\n",
    "    \n",
    "    # Detect biomolecular cavities\n",
    "    ncav, cavities = pyKVFinder.detect(nx, ny, nz, xyzr, vertices, sincos, probe_out=12.0, box_adjustment=True, lxyzr=lxyzr)\n",
    "    \n",
    "    if occurrence is None:\n",
    "        occurrence = (cavities > 1).astype(int)\n",
    "    else:\n",
    "        occurrence += (cavities > 1).astype(int)\n",
    "\n",
    "# Get percentage of occurence\n",
    "percentage = (occurrence/len(frames)) * 100\n",
    "\n",
    "# Get cavity points\n",
    "cavities = ((occurrence > 0).astype('int32'))\n",
    "cavities += cavities\n",
    "\n",
    "# Export cavities with percentage of occurrence in B-factor column\n",
    "pyKVFinder.export('./results/md/occurrence.pdb', cavities, None, vertices, sincos, ncav=1, B=percentage) "
   ]
  },
  {
   "cell_type": "code",
   "execution_count": 9,
   "id": "regional-chart",
   "metadata": {},
   "outputs": [
    {
     "data": {
      "application/vnd.jupyter.widget-view+json": {
       "model_id": "f3cc3c9f1ff6404c97a9259c75580228",
       "version_major": 2,
       "version_minor": 0
      },
      "text/plain": [
       "NGLWidget()"
      ]
     },
     "metadata": {},
     "output_type": "display_data"
    }
   ],
   "source": [
    "# Visualize the occurrence (%) of cavity points throughout the simulation\n",
    "\n",
    "# Create NGL Viewer widget\n",
    "view = nglview.NGLWidget()\n",
    "\n",
    "# Disply referece 6W02 as grey cartoon\n",
    "pdb = view.add_component(reference)\n",
    "pdb.clear()\n",
    "pdb.add_cartoon(color='grey', opacity=0.5)\n",
    "\n",
    "# Display ligand\n",
    "lig = view.add_component(ligand)\n",
    "lig.clear()\n",
    "lig.add_licorice(color='red')\n",
    "\n",
    "# Display surface points colored by hydrophobicity\n",
    "cavs = view.add_component('./results/md/occurrence.pdb')\n",
    "cavs.clear()\n",
    "cavs.add_point(colorScheme='bfactor',colorScale='rainbow', colorReverse=True)\n",
    "\n",
    "# Display on NGL viewer\n",
    "view"
   ]
  },
  {
   "cell_type": "markdown",
   "id": "hired-copying",
   "metadata": {},
   "source": [
    "# Properties throughout the simulation"
   ]
  },
  {
   "cell_type": "code",
   "execution_count": 10,
   "id": "acquired-messaging",
   "metadata": {},
   "outputs": [],
   "source": [
    "# Calculating depth\n",
    "\n",
    "# Read van der Waals dictionary\n",
    "vdw = pyKVFinder.read_vdw()\n",
    "\n",
    "# Read ligand coordinates\n",
    "_, lxyzr = pyKVFinder.read_pdb(ligand, vdw)\n",
    "\n",
    "# Depths\n",
    "depth = numpy.zeros((2, len(frames)))\n",
    "\n",
    "for frame in frames:\n",
    "    # Get frame number\n",
    "    num = (int(frame.replace('.pdb', '')))\n",
    "\n",
    "    # Load atomic coordinates and information\n",
    "    resinfo, xyzr = pyKVFinder.read_pdb(os.path.join('./data', frame), vdw)\n",
    "\n",
    "    # Get grid from file\n",
    "    vertices, resinfo, xyzr, sincos, nx, ny, nz = pyKVFinder.get_grid_from_file('./box.toml', resinfo, xyzr, probe_out=8.0)\n",
    "\n",
    "    # Detect biomolecular cavities\n",
    "    ncav, cavities = pyKVFinder.detect(nx, ny, nz, xyzr, vertices, sincos, probe_out=12.0, box_adjustment=True, lxyzr=lxyzr)\n",
    "\n",
    "    # Depth characterization\n",
    "    depths, max_depth, avg_depth = pyKVFinder.depth(cavities, ncav)\n",
    "\n",
    "    # Accumulate\n",
    "    depth[0, num-1] = max(max_depth.values())\n",
    "    depth[1, num-1] = max(avg_depth.values())\n",
    "\n",
    "    # Export cavity\n",
    "    pyKVFinder.export(f'./results/md/depth/{num}.pdb', cavities, None, vertices, sincos, ncav=ncav, B=depths, model=num)"
   ]
  },
  {
   "cell_type": "markdown",
   "id": "placed-fraud",
   "metadata": {},
   "source": [
    "## Depth"
   ]
  },
  {
   "cell_type": "code",
   "execution_count": 11,
   "id": "latest-sussex",
   "metadata": {},
   "outputs": [
    {
     "data": {
      "image/png": "[encoded data removed]",
      "text/plain": [
       "<Figure size 432x288 with 1 Axes>"
      ]
     },
     "metadata": {
      "needs_background": "light"
     },
     "output_type": "display_data"
    }
   ],
   "source": [
    "# Lineplot for depth characterization\n",
    "\n",
    "# Prepare data\n",
    "data = pd.DataFrame(depth, index=['Maximum', 'Average']).replace(0.0, numpy.nan).transpose()\n",
    "\n",
    "# Plot data points\n",
    "ax = data['Maximum'].plot.line(alpha=0.5)\n",
    "\n",
    "# Plot moving average\n",
    "data['moving_average'] = data.iloc[:, data.columns.get_loc('Maximum')].rolling(window=10).mean()\n",
    "ax.plot('moving_average', data=data, color='black')\n",
    "\n",
    "# Customize axis\n",
    "ax.set_ylim(0, 8)\n",
    "ax.set_xlim(0, 600)\n",
    "ax.set_ylabel(r'Depth ($\\AA$)')\n",
    "ax.set_xlabel('Time (ns)')\n",
    "ax.grid(True)\n",
    "\n",
    "# Save to file\n",
    "fig = ax.get_figure()\n",
    "os.mkdir('./results/plots') if not os.path.exists('./results/plots') else None\n",
    "fig.savefig('./results/plots/maximum_depth.png', dpi=300)"
   ]
  },
  {
   "cell_type": "code",
   "execution_count": 12,
   "id": "adapted-method",
   "metadata": {},
   "outputs": [
    {
     "data": {
      "image/png": "[encoded data removed]",
      "text/plain": [
       "<Figure size 432x288 with 1 Axes>"
      ]
     },
     "metadata": {
      "needs_background": "light"
     },
     "output_type": "display_data"
    }
   ],
   "source": [
    "# Lineplot for depth characterization\n",
    "\n",
    "# Prepare data\n",
    "data = pd.DataFrame(depth, index=['Maximum', 'Average']).replace(0.0, numpy.nan).transpose()\n",
    "\n",
    "# Plot data points\n",
    "ax = data['Average'].plot.line(alpha=0.5)\n",
    "\n",
    "# Plot moving average\n",
    "data['moving_average'] = data.iloc[:, data.columns.get_loc('Average')].rolling(window=10).mean()\n",
    "ax.plot('moving_average', data=data, color='black')\n",
    "\n",
    "# Customize axis\n",
    "ax.set_ylim(0, 4)\n",
    "ax.set_xlim(0, 600)\n",
    "ax.set_ylabel(r'Depth ($\\AA$)')\n",
    "ax.set_xlabel('Time (ns)')\n",
    "ax.grid(True)\n",
    "\n",
    "# Save to file\n",
    "fig = ax.get_figure()\n",
    "os.mkdir('./results/plots') if not os.path.exists('./results/plots') else None\n",
    "fig.savefig('./results/plots/average_depth.png', dpi=300)"
   ]
  },
  {
   "cell_type": "code",
   "execution_count": null,
   "id": "nuclear-commission",
   "metadata": {},
   "outputs": [],
   "source": [
    "# Calculating volume, area and hydropathy\n",
    "\n",
    "# Read van der Waals dictionary\n",
    "vdw = pyKVFinder.read_vdw()\n",
    "\n",
    "# Hydropathy\n",
    "hydropathy = numpy.zeros((len(frames)))\n",
    "volarea = numpy.zeros((2, len(frames)))\n",
    "\n",
    "for frame in frames:\n",
    "    # Get model number\n",
    "    num = (int(frame.replace('.pdb', '')))\n",
    "\n",
    "    # Load atomic coordinates and information\n",
    "    resinfo, xyzr = pyKVFinder.read_pdb(os.path.join('./data', frame), vdw)\n",
    "\n",
    "    # Get grid from file\n",
    "    vertices, resinfo, xyzr, sincos, nx, ny, nz = pyKVFinder.get_grid_from_file('./box.toml', resinfo, xyzr, probe_out=12.0)\n",
    "\n",
    "    # Detect biomolecular cavities\n",
    "    ncav, cavities = pyKVFinder.detect(nx, ny, nz, xyzr, vertices, sincos, probe_out=12.0, box_adjustment=True)\n",
    "\n",
    "    # Spatial characterization\n",
    "    surface, volume, area = pyKVFinder.spatial(cavities, ncav)\n",
    "\n",
    "    # Accumulate volume and area\n",
    "    volarea[0, num-1] = max(volume.values())\n",
    "    volarea[1, num-1] = max(area.values())\n",
    "    \n",
    "    # Hydropathy characterization\n",
    "    scales, avg_hydropathy = pyKVFinder.hydropathy(surface, resinfo, xyzr, vertices, sincos, ncav, ignore_backbone=True)\n",
    "\n",
    "    # Get index of larger cavity\n",
    "    index = list(volume.values()).index(max(volume.values()))\n",
    "    \n",
    "    # Accumulate hydropathy\n",
    "    avg_hydropathy.popitem()\n",
    "    hydropathy[num-1] = list(avg_hydropathy.values())[index]\n",
    "\n",
    "    # Export cavity\n",
    "    pyKVFinder.export(None, None, surface, vertices, sincos, ncav=ncav, output_hydropathy=f'./results/md/hydropathy/{num}.pdb', scales=scales, model=num)"
   ]
  },
  {
   "cell_type": "markdown",
   "id": "soviet-earthquake",
   "metadata": {},
   "source": [
    "## Volume"
   ]
  },
  {
   "cell_type": "code",
   "execution_count": null,
   "id": "civil-waterproof",
   "metadata": {},
   "outputs": [],
   "source": [
    "# Lineplot for volume characterization\n",
    "\n",
    "# Prepare data\n",
    "data = pd.DataFrame(volarea, index=['Volume', 'Area']).transpose().replace(0, numpy.nan)\n",
    "\n",
    "# Plot data points\n",
    "ax = data['Volume'].plot.line(color='gray', alpha=0.5)\n",
    "\n",
    "# Plot moving average\n",
    "data['moving_average'] = data.iloc[:, data.columns.get_loc('Volume')].rolling(window=10).mean()\n",
    "ax.plot('moving_average', data=data, color='black')\n",
    "\n",
    "# # Customize axis\n",
    "ax.set_ylim(0, 1000)\n",
    "ax.set_xlim(0, 600)\n",
    "ax.set_ylabel('Volume ($\\AA^3$)')\n",
    "ax.set_xlabel('Time (ns)')\n",
    "ax.grid(True)\n",
    "\n",
    "# Save to file\n",
    "fig = ax.get_figure()\n",
    "os.mkdir('./results/plots') if not os.path.exists('./results/plots') else None\n",
    "fig.savefig('./results/plots/volume.png', dpi=300)"
   ]
  },
  {
   "cell_type": "markdown",
   "id": "burning-valley",
   "metadata": {},
   "source": [
    "## Area"
   ]
  },
  {
   "cell_type": "code",
   "execution_count": null,
   "id": "above-associate",
   "metadata": {},
   "outputs": [],
   "source": [
    "# Lineplot for volume characterization\n",
    "\n",
    "# Prepare data\n",
    "data = pd.DataFrame(volarea, index=['Volume', 'Area']).transpose().replace(0, numpy.nan)\n",
    "\n",
    "# Plot data points\n",
    "ax = data['Area'].plot.line(color='gray', alpha=0.5)\n",
    "\n",
    "# Plot moving average\n",
    "data['moving_average'] = data.iloc[:, data.columns.get_loc('Area')].rolling(window=10).mean()\n",
    "ax.plot('moving_average', data=data, color='black')\n",
    "\n",
    "# # Customize axis\n",
    "ax.set_ylim(0, 1000)\n",
    "ax.set_xlim(0, 600)\n",
    "ax.set_ylabel(r'Area ($\\AA^2$)')\n",
    "ax.set_xlabel('Time (ns)')\n",
    "ax.grid(True)\n",
    "\n",
    "# Save to file\n",
    "fig = ax.get_figure()\n",
    "os.mkdir('./results/plots') if not os.path.exists('./results/plots') else None\n",
    "fig.savefig('./results/plots/volume.png', dpi=300)"
   ]
  },
  {
   "cell_type": "markdown",
   "id": "laden-intranet",
   "metadata": {},
   "source": [
    "## Hydropathy"
   ]
  },
  {
   "cell_type": "code",
   "execution_count": null,
   "id": "sunrise-wells",
   "metadata": {},
   "outputs": [],
   "source": [
    "# Lineplot for hydropathy characterization\n",
    "\n",
    "# Prepare data\n",
    "data = pd.DataFrame(hydropathy, columns=['Average']).replace(0.0, numpy.nan)\n",
    "\n",
    "# Plot data points\n",
    "ax = data.plot.line(color='gray', alpha=0.5)\n",
    "\n",
    "# Plot moving average\n",
    "data['moving_average'] = data.iloc[:, data.columns.get_loc('Average')].rolling(window=10).mean()\n",
    "ax.plot('moving_average', data=data, color='black')\n",
    "\n",
    "# Customize axis\n",
    "ax.set_ylim(-1.5, 1.0)\n",
    "ax.set_xlim(0, 600)\n",
    "ax.set_xlabel('Time (ns)')\n",
    "ax.set_ylabel('Hydropathy')\n",
    "ax.grid(True)\n",
    "\n",
    "# Save to file\n",
    "fig = ax.get_figure()\n",
    "os.mkdir('./results/plots') if not os.path.exists('./results/plots') else None\n",
    "fig.savefig('./results/plots/hydropathy.png', dpi=300)"
   ]
  }
 ],
 "metadata": {
  "kernelspec": {
   "display_name": "Python 3.8.5 64-bit",
   "language": "python",
   "name": "python38564bit647a6185318b4fea85896151014a1a3c"
  },
  "language_info": {
   "codemirror_mode": {
    "name": "ipython",
    "version": 3
   },
   "file_extension": ".py",
   "mimetype": "text/x-python",
   "name": "python",
   "nbconvert_exporter": "python",
   "pygments_lexer": "ipython3",
   "version": "3.8.5"
  }
 },
 "nbformat": 4,
 "nbformat_minor": 5
}
