{
 "cells": [
  {
   "cell_type": "markdown",
   "id": "scientific-flavor",
   "metadata": {},
   "source": [
    "# Requirements"
   ]
  },
  {
   "cell_type": "code",
   "execution_count": 1,
   "id": "illegal-malawi",
   "metadata": {},
   "outputs": [
    {
     "data": {
      "application/vnd.jupyter.widget-view+json": {
       "model_id": "3dd831b7457c4429bb0481ba743b9014",
       "version_major": 2,
       "version_minor": 0
      },
      "text/plain": []
     },
     "metadata": {},
     "output_type": "display_data"
    }
   ],
   "source": [
    "# Import required modules\n",
    "import os\n",
    "import toml\n",
    "import zipfile\n",
    "import numpy\n",
    "import pyKVFinder\n",
    "import nglview\n",
    "import IPython\n",
    "import matplotlib as mpl\n",
    "import matplotlib.pyplot as plt"
   ]
  },
  {
   "cell_type": "code",
   "execution_count": 2,
   "id": "sustainable-kenya",
   "metadata": {},
   "outputs": [],
   "source": [
    "# Unzip required files\n",
    "if not os.path.isdir('./data'):\n",
    "    with zipfile.ZipFile('./data.zip', 'r') as zipped:\n",
    "        zipped.extractall('./data')"
   ]
  },
  {
   "cell_type": "code",
   "execution_count": 3,
   "id": "crazy-aside",
   "metadata": {},
   "outputs": [
    {
     "name": "stdout",
     "output_type": "stream",
     "text": [
      "['2ACF-B.pdb', '2VRI-A.pdb', '2X47-A.pdb', '3EJG-A.pdb', '3ETI-B.pdb', '5HIH-A.pdb', '6WEN-A.pdb', '6Y73-D.pdb']\n"
     ]
    }
   ],
   "source": [
    "# Get DALI proteins\n",
    "pdbs = [f for f in sorted(os.listdir('./data')) if f.endswith('.pdb')]\n",
    "print(pdbs)\n",
    "\n",
    "# Get reference protein\n",
    "reference = './data/6WEN-A.pdb'"
   ]
  },
  {
   "cell_type": "code",
   "execution_count": 4,
   "id": "sought-midwest",
   "metadata": {},
   "outputs": [],
   "source": [
    "# Define a common custom box using parKVFinder's PyMOL plugin\n",
    "box = {\n",
    "    'box':{\n",
    "        'p1': [ 3.53, -0.87, 9.21,],\n",
    "        'p2': [ 17.33, -0.87, 9.21,],\n",
    "        'p3': [ 3.53, 14.73, 9.21,],\n",
    "        'p4': [ 3.53, -0.87, 28.72,],\n",
    "    }\n",
    "}\n",
    "\n",
    "# Write common custom box to file\n",
    "with open('box.toml', 'w') as f:\n",
    "    toml.dump(box, f)"
   ]
  },
  {
   "cell_type": "markdown",
   "id": "under-healthcare",
   "metadata": {},
   "source": [
    "# Cavity detection and characterization on reference"
   ]
  },
  {
   "cell_type": "code",
   "execution_count": 5,
   "id": "greek-bandwidth",
   "metadata": {},
   "outputs": [],
   "source": [
    "# Detect and characterize cavities on reference\n",
    "results = pyKVFinder.pyKVFinder(reference, probe_out=12.0, volume_cutoff=100.0, box='./box.toml', ignore_backbone=True, include_depth=True, include_hydropathy=True)\n",
    "\n",
    "# Export cavities and results\n",
    "results.export_all(fn='./results/6WEN/6WEN.results.toml', output='./results/6WEN/6WEN.output.pdb', output_hydropathy='./results/6WEN/6WEN.EisenbergWeiss.pdb', include_frequencies_pdf=True, pdf='./results/6WEN/6WEN.histograms.pdf')"
   ]
  },
  {
   "cell_type": "code",
   "execution_count": 6,
   "id": "convertible-arena",
   "metadata": {},
   "outputs": [
    {
     "data": {
      "application/vnd.jupyter.widget-view+json": {
       "model_id": "e726fa9709924a9f97e671f66ccd0a9e",
       "version_major": 2,
       "version_minor": 0
      },
      "text/plain": [
       "NGLWidget()"
      ]
     },
     "metadata": {},
     "output_type": "display_data"
    }
   ],
   "source": [
    "# Visualize interface residues (red licorice)\n",
    "\n",
    "# Define the tag of the cavity you want to see \n",
    "tag = 'KAA'\n",
    "\n",
    "# Create NGL Viewer widget\n",
    "view = nglview.NGLWidget()\n",
    "\n",
    "# Add protein\n",
    "p1 = view.add_component(reference)\n",
    "p1.clear()\n",
    "p1.add_cartoon(color='grey')\n",
    "\n",
    "# Select interface residues\n",
    "selection = f\"{' or '.join([f'({sel[0]} and :{sel[1]})' for sel in results.residues[tag]])}\"\n",
    "\n",
    "# Add interface residues\n",
    "p1.add_licorice(color='red', selection=selection)\n",
    "\n",
    "# Add cavities\n",
    "p2 = view.add_component('./results/6WEN/6WEN.output.pdb')\n",
    "p2.clear()\n",
    "p2.add_surface(color='white', opacity=0.5, surfaceType='vws', probeRadius=0.3)\n",
    "\n",
    "# Show\n",
    "view"
   ]
  },
  {
   "cell_type": "code",
   "execution_count": 7,
   "id": "transsexual-chinese",
   "metadata": {},
   "outputs": [
    {
     "data": {
      "application/vnd.jupyter.widget-view+json": {
       "model_id": "93055c7eff104257b82239f3eea4f79a",
       "version_major": 2,
       "version_minor": 0
      },
      "text/plain": [
       "NGLWidget()"
      ]
     },
     "metadata": {},
     "output_type": "display_data"
    }
   ],
   "source": [
    "# Visualize depth of cavity points (rainbow scale)\n",
    "\n",
    "# Create NGL Viewer widget\n",
    "view = nglview.NGLWidget()\n",
    "\n",
    "# Add protein\n",
    "p1 = view.add_component(reference)\n",
    "p1.clear()\n",
    "p1.add_cartoon(color='grey')\n",
    "\n",
    "# Add depth cavities\n",
    "p3 = view.add_component('./results/6WEN/6WEN.output.pdb')\n",
    "p3.clear()\n",
    "p3.add_surface(colorScheme='bfactor', colorScale='rainbow', colorReverse=True, surfaceType='vws', probeRadius=0.3)\n",
    "\n",
    "# Show\n",
    "view"
   ]
  },
  {
   "cell_type": "code",
   "execution_count": 8,
   "id": "strange-calculation",
   "metadata": {},
   "outputs": [
    {
     "data": {
      "image/png": "[encoded data removed]",
      "text/plain": [
       "<Figure size 720x36 with 1 Axes>"
      ]
     },
     "metadata": {
      "needs_background": "light"
     },
     "output_type": "display_data"
    }
   ],
   "source": [
    "# Plot depth scale\n",
    "fig, ax = plt.subplots(figsize=(10, 0.5))\n",
    "norm = mpl.colors.Normalize(vmin=results.depths.min(), vmax=results.depths.max())\n",
    "cb1 = mpl.colorbar.ColorbarBase(ax, cmap=plt.get_cmap('rainbow'), norm=norm, orientation='horizontal')\n",
    "cb1.set_label(r'Depth ($\\AA$)')\n"
   ]
  },
  {
   "cell_type": "code",
   "execution_count": 9,
   "id": "interracial-litigation",
   "metadata": {},
   "outputs": [
    {
     "data": {
      "application/vnd.jupyter.widget-view+json": {
       "model_id": "1e0c7902bb6f4f9ea0302b2c545a8faf",
       "version_major": 2,
       "version_minor": 0
      },
      "text/plain": [
       "NGLWidget()"
      ]
     },
     "metadata": {},
     "output_type": "display_data"
    }
   ],
   "source": [
    "# Visualize hydropathy of cavity points (yellow-white-blue scale)\n",
    "\n",
    "# Create NGL Viewer widget\n",
    "view = nglview.NGLWidget()\n",
    "\n",
    "# Add protein\n",
    "p1 = view.add_component(reference)\n",
    "p1.clear()\n",
    "p1.add_cartoon(color='grey')\n",
    "\n",
    "# Add hydrophobicity scale cavities\n",
    "p4 = view.add_component('./results/6WEN/6WEN.EisenbergWeiss.pdb')\n",
    "p4.clear()\n",
    "p4.add_surface(colorScheme='bfactor', colorMode='rgb', colorScale=[0xFFFF00, 0xffffff, 0x0000FF], surfaceType='vws', probeRadius=0.3)\n",
    "\n",
    "# Show\n",
    "view"
   ]
  },
  {
   "cell_type": "code",
   "execution_count": 10,
   "id": "grand-deficit",
   "metadata": {},
   "outputs": [
    {
     "data": {
      "image/png": "[encoded data removed]",
      "text/plain": [
       "<Figure size 720x36 with 1 Axes>"
      ]
     },
     "metadata": {
      "needs_background": "light"
     },
     "output_type": "display_data"
    }
   ],
   "source": [
    "# Plot hydropathy scale\n",
    "fig, ax = plt.subplots(figsize=(10, 0.5))\n",
    "norm = mpl.colors.Normalize(vmin=results.scales.min(), vmax=results.scales.max())\n",
    "cm = mpl.colors.LinearSegmentedColormap.from_list('hydropathy', colors=[\"#FFFF00\", \"#ffffff\", \"#0000FF\"])\n",
    "cb1 = mpl.colorbar.ColorbarBase(ax, cmap=cm, norm=norm, orientation='horizontal')\n",
    "cb1.set_label('Hydropathy')"
   ]
  },
  {
   "cell_type": "code",
   "execution_count": 11,
   "id": "better-subsection",
   "metadata": {},
   "outputs": [
    {
     "data": {
      "text/html": [
       "\n",
       "        <iframe\n",
       "            width=\"600\"\n",
       "            height=\"300\"\n",
       "            src=\"./results/6WEN/6WEN.histograms.pdf\"\n",
       "            frameborder=\"0\"\n",
       "            allowfullscreen\n",
       "        ></iframe>\n",
       "        "
      ],
      "text/plain": [
       "<IPython.lib.display.IFrame at 0x7f3b18ce6640>"
      ]
     },
     "execution_count": 11,
     "metadata": {},
     "output_type": "execute_result"
    }
   ],
   "source": [
    "# Display histograms of residues\n",
    "IPython.display.IFrame(\"./results/6WEN/6WEN.histograms.pdf\", width=600, height=300)"
   ]
  },
  {
   "cell_type": "markdown",
   "id": "periodic-liberal",
   "metadata": {},
   "source": [
    "# Occurence analysis"
   ]
  },
  {
   "cell_type": "code",
   "execution_count": 12,
   "id": "jewish-computer",
   "metadata": {},
   "outputs": [],
   "source": [
    "# Read van der Waals dictionary\n",
    "vdw = pyKVFinder.read_vdw()\n",
    "\n",
    "# Create empty array\n",
    "occurrence = None\n",
    "\n",
    "for pdb in pdbs:\n",
    "    # Load atomic coordinates and information\n",
    "    resinfo, xyzr = pyKVFinder.read_pdb(os.path.join('./data', pdb), vdw)\n",
    "    \n",
    "    # Get grid from file\n",
    "    vertices, resinfo, xyzr, sincos, nx, ny, nz = pyKVFinder.get_grid_from_file('./box.toml', resinfo, xyzr, probe_out=12.0)\n",
    "    \n",
    "    # Detect biomolecular cavities\n",
    "    ncav, cavities = pyKVFinder.detect(nx, ny, nz, xyzr, vertices, sincos, probe_out=12.0, volume_cutoff=100.0, box_adjustment=True)\n",
    "    \n",
    "    if occurrence is None:\n",
    "        occurrence = (cavities > 1).astype(int)\n",
    "    else:\n",
    "        occurrence += (cavities > 1).astype(int)\n",
    "\n",
    "# Get cavity points\n",
    "noise_cutoff = 2\n",
    "cavities = 2 * ((occurrence >= noise_cutoff).astype('int32'))\n",
    "\n",
    "# Export cavities with percentage of occurrence in B-factor column\n",
    "pyKVFinder.export('./results/occurence.pdb', cavities, None, vertices, sincos, ncav=1, B=occurrence) "
   ]
  },
  {
   "cell_type": "code",
   "execution_count": 13,
   "id": "direct-collection",
   "metadata": {},
   "outputs": [
    {
     "data": {
      "application/vnd.jupyter.widget-view+json": {
       "model_id": "25f7d84815fc40c8be556451001b78de",
       "version_major": 2,
       "version_minor": 0
      },
      "text/plain": [
       "NGLWidget()"
      ]
     },
     "metadata": {},
     "output_type": "display_data"
    }
   ],
   "source": [
    "# Visualize the occurrence of cavity points throughout the simulation\n",
    "\n",
    "# Create NGL Viewer widget\n",
    "view = nglview.NGLWidget()\n",
    "\n",
    "# Disply referece 6W02 as grey cartoon\n",
    "pdb = view.add_component(reference)\n",
    "pdb.clear()\n",
    "pdb.add_cartoon(color='grey', opacity=0.5)\n",
    "\n",
    "# Display surface points colored by hydrophobicity\n",
    "cavs = view.add_component('./results/occurence.pdb')\n",
    "cavs.clear()\n",
    "cavs.add_point(colorScheme='bfactor', colorScale='rainbow', colorReverse=True)\n",
    "\n",
    "# Display on NGL viewer\n",
    "view"
   ]
  },
  {
   "cell_type": "code",
   "execution_count": 14,
   "id": "dietary-patrick",
   "metadata": {},
   "outputs": [
    {
     "data": {
      "image/png": "[encoded data removed]",
      "text/plain": [
       "<Figure size 720x36 with 1 Axes>"
      ]
     },
     "metadata": {
      "needs_background": "light"
     },
     "output_type": "display_data"
    }
   ],
   "source": [
    "# Plot occurence scale\n",
    "fig, ax = plt.subplots(figsize=(10, 0.5))\n",
    "norm = mpl.colors.Normalize(vmin=noise_cutoff, vmax=occurrence.max())\n",
    "cb1 = mpl.colorbar.ColorbarBase(ax, cmap=plt.get_cmap('rainbow'), norm=norm, orientation='horizontal')\n",
    "cb1.set_label(r'Occurrence')"
   ]
  },
  {
   "cell_type": "markdown",
   "id": "handed-tanzania",
   "metadata": {},
   "source": [
    "# Hydropathy analysis"
   ]
  },
  {
   "cell_type": "code",
   "execution_count": 15,
   "id": "champion-compression",
   "metadata": {},
   "outputs": [],
   "source": [
    "# Read van der Waals dictionary\n",
    "vdw = pyKVFinder.read_vdw()\n",
    "\n",
    "# hydropathy\n",
    "hydropathy = {}\n",
    "frequency = {}\n",
    "\n",
    "for pdb in pdbs:\n",
    "    # Load atomic coordinates and information\n",
    "    resinfo, xyzr = pyKVFinder.read_pdb(os.path.join('./data', pdb), vdw)\n",
    "    \n",
    "    # Get grid from file\n",
    "    vertices, resinfo, xyzr, sincos, nx, ny, nz = pyKVFinder.get_grid_from_file('./box.toml', resinfo, xyzr, probe_out=12.0)\n",
    "    \n",
    "    # Detect biomolecular cavities\n",
    "    ncav, cavities = pyKVFinder.detect(nx, ny, nz, xyzr, vertices, sincos, probe_out=12.0, volume_cutoff=100.0, box_adjustment=True)\n",
    "\n",
    "    # Constitutional characterization\n",
    "    residues = pyKVFinder.constitutional(cavities, resinfo, xyzr, vertices, sincos, ncav, ignore_backbone=True)\n",
    "    frequencies = pyKVFinder.calculate_frequencies(residues)\n",
    "    \n",
    "    # Accumulate frequency\n",
    "    frequency[f\"{pdb.replace('.pdb', '')}\"] = frequencies['KAA']['RESIDUES']\n",
    "    \n",
    "    # Depth characterization\n",
    "    depths, max_depth, avg_depth = pyKVFinder.depth(cavities, ncav)\n",
    "    \n",
    "    # Spatial characterization\n",
    "    surface, volume, area = pyKVFinder.spatial(cavities, ncav)\n",
    "    \n",
    "    # Hydropathy characterization\n",
    "    scales, avg_hydropathy = pyKVFinder.hydropathy(surface, resinfo, xyzr, vertices, sincos, ncav, ignore_backbone=True)\n",
    "    \n",
    "    # Accumulate hydropathy arrays\n",
    "    hydropathy[f\"{pdb.replace('.pdb', '')}\"] = scales.reshape(-1)\n",
    "    \n",
    "    # Export cavities\n",
    "    output_cavity = f\"./results/detections/{pdb.replace('.pdb', '')}.cavities.pdb\"\n",
    "    output_hydropathy = f\"./results/detections/{pdb.replace('.pdb', '')}.EisenbergWeiss.pdb\"\n",
    "    pyKVFinder.export(output_cavity, cavities, surface, vertices, sincos, ncav=ncav, output_hydropathy=output_hydropathy, scales=scales)\n",
    "    \n",
    "    # Write results\n",
    "    output_results = f\"./results/detections/{pdb.replace('.pdb', '')}.results.toml\"\n",
    "    pyKVFinder.write_results(output_results, pdb=pdb, ligand=None, output=output_cavity, output_hydropathy=output_hydropathy, volume=volume, area=area, max_depth=max_depth, avg_depth=avg_depth, avg_hydropathy=avg_hydropathy, residues=residues, frequencies=frequencies)"
   ]
  },
  {
   "cell_type": "markdown",
   "id": "descending-tiger",
   "metadata": {},
   "source": [
    "## Data analysis"
   ]
  },
  {
   "cell_type": "code",
   "execution_count": 16,
   "id": "automatic-college",
   "metadata": {},
   "outputs": [],
   "source": [
    "# Import required packages\n",
    "import scipy\n",
    "from scipy.cluster.hierarchy import dendrogram, linkage\n",
    "import pandas as pd"
   ]
  },
  {
   "cell_type": "markdown",
   "id": "widespread-merchant",
   "metadata": {},
   "source": [
    "## Hydropathy distributions"
   ]
  },
  {
   "cell_type": "code",
   "execution_count": 17,
   "id": "needed-police",
   "metadata": {},
   "outputs": [
    {
     "data": {
      "image/png": "[encoded data removed]",
      "text/plain": [
       "<Figure size 432x288 with 1 Axes>"
      ]
     },
     "metadata": {
      "needs_background": "light"
     },
     "output_type": "display_data"
    }
   ],
   "source": [
    "# Plot kde distributions\n",
    "data = pd.DataFrame(hydropathy).replace(0.0, numpy.nan)\n",
    "ax = data.plot.kde()\n",
    "ax.set_xlim(-2, 3)\n",
    "ax.set_ylim(0, 1)\n",
    "ax.set_xlabel('Hydropathy')\n",
    "\n",
    "# Save to file\n",
    "fig = ax.get_figure()\n",
    "os.mkdir('./results/plots') if not os.path.exists('./results/plots') else None\n",
    "fig.savefig('./results/plots/kde.png', dpi=300)"
   ]
  },
  {
   "cell_type": "markdown",
   "id": "standard-timing",
   "metadata": {},
   "source": [
    "## Hierarchical clustering"
   ]
  },
  {
   "cell_type": "code",
   "execution_count": 18,
   "id": "behind-drill",
   "metadata": {},
   "outputs": [
    {
     "data": {
      "image/png": "[encoded data removed]",
      "text/plain": [
       "<Figure size 432x288 with 1 Axes>"
      ]
     },
     "metadata": {
      "needs_background": "light"
     },
     "output_type": "display_data"
    }
   ],
   "source": [
    "# Hierarchical clustering of residues frequency\n",
    "\n",
    "# Prepare data\n",
    "data = pd.DataFrame.from_dict(frequency, orient='index').replace(numpy.nan, 0.0)\n",
    "\n",
    "# Calculate distances\n",
    "linked = linkage(data, method='complete', metric='correlation')\n",
    "\n",
    "# Create dendogram\n",
    "scipy.cluster.hierarchy.dendrogram(linked, orientation='top', labels=data.index, distance_sort='descending', show_leaf_counts=True)\n",
    "\n",
    "# Save to file\n",
    "plt.tight_layout()\n",
    "plt.savefig('./results/plots/dendogram.png', dpi=300)"
   ]
  }
 ],
 "metadata": {
  "kernelspec": {
   "display_name": "Python 3.8.5 64-bit",
   "language": "python",
   "name": "python38564bit647a6185318b4fea85896151014a1a3c"
  },
  "language_info": {
   "codemirror_mode": {
    "name": "ipython",
    "version": 3
   },
   "file_extension": ".py",
   "mimetype": "text/x-python",
   "name": "python",
   "nbconvert_exporter": "python",
   "pygments_lexer": "ipython3",
   "version": "3.8.5"
  }
 },
 "nbformat": 4,
 "nbformat_minor": 5
}
