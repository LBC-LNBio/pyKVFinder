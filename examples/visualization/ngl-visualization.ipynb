{
 "cells": [
  {
   "cell_type": "markdown",
   "metadata": {},
   "source": [
    "# Cavity visualization with NGL Viewer\n",
    "\n",
    "This Jupyter notebook presents how to visualize a cavity detection and characterization on a catalytic subunit of a cAMP-dependent protein kinase (PDB ID: 1FMO) with NGL Viewer package."
   ]
  },
  {
   "cell_type": "markdown",
   "metadata": {},
   "source": [
    "# Requirements"
   ]
  },
  {
   "cell_type": "code",
   "execution_count": 1,
   "metadata": {},
   "outputs": [
    {
     "data": {
      "application/vnd.jupyter.widget-view+json": {
       "model_id": "8c53b37ca1904f8ab2697b1d4dfd97b6",
       "version_major": 2,
       "version_minor": 0
      },
      "text/plain": []
     },
     "metadata": {},
     "output_type": "display_data"
    }
   ],
   "source": [
    "# Import NGL Viewer\n",
    "import os\n",
    "import zipfile\n",
    "import nglview\n",
    "import matplotlib as mpl\n",
    "import matplotlib.pyplot as plt"
   ]
  },
  {
   "cell_type": "code",
   "execution_count": 2,
   "metadata": {},
   "outputs": [],
   "source": [
    "# Unzip required files\n",
    "if not os.path.isdir('./data'):\n",
    "    with zipfile.ZipFile('./data.zip', 'r') as zipped:\n",
    "        zipped.extractall('./data')\n",
    "\n",
    "# To reproduce this files, run:\n",
    "# pyKVFinder ../../tests/data/1FMO.pdb --hydropathy --depth\n",
    "\n",
    "# Fill this information with your own data\n",
    "results_file = './data/1FMO.KVFinder.results.toml'\n",
    "pdb = './data/1FMO.pdb'\n",
    "cavities = './data/1FMO.KVFinder.output.pdb'\n",
    "hydropathy = './data/1FMO.EisenbergWeiss.pdb' # If not calculated, set to None"
   ]
  },
  {
   "cell_type": "code",
   "execution_count": 3,
   "metadata": {},
   "outputs": [],
   "source": [
    "# To install toml package, run:\n",
    "# pip install toml\n",
    "\n",
    "# Import toml\n",
    "import toml \n",
    "\n",
    "# Load KVFinder results\n",
    "results = toml.load(results_file)"
   ]
  },
  {
   "cell_type": "markdown",
   "metadata": {},
   "source": [
    "# Visualization of cavity and surface points"
   ]
  },
  {
   "cell_type": "code",
   "execution_count": 4,
   "metadata": {},
   "outputs": [],
   "source": [
    "# Define function to rotate object\n",
    "def rotate_view(view, x=0, y=0, z=0, degrees=True):\n",
    "    radians = 1\n",
    "    if degrees: radians = 3.1416 / 180\n",
    "    view.control.spin([1, 0, 0], x*radians)\n",
    "    view.control.spin([0, 1, 0], y*radians)\n",
    "    view.control.spin([0, 0, 1], z*radians)"
   ]
  },
  {
   "cell_type": "code",
   "execution_count": 5,
   "metadata": {
    "scrolled": true
   },
   "outputs": [
    {
     "name": "stdout",
     "output_type": "stream",
     "text": [
      "Volume: {'KAA': 137.16, 'KAB': 47.52, 'KAC': 66.96, 'KAD': 8.21, 'KAE': 43.63, 'KAF': 12.53, 'KAG': 6.26, 'KAH': 520.13, 'KAI': 12.31, 'KAJ': 26.57, 'KAK': 12.31, 'KAL': 33.91, 'KAM': 23.11, 'KAN': 102.82, 'KAO': 6.05, 'KAP': 15.55, 'KAQ': 7.99, 'KAR': 7.78}\n",
      "Area: {'KAA': 126.41, 'KAB': 62.37, 'KAC': 74.57, 'KAD': 19.06, 'KAE': 57.08, 'KAF': 22.77, 'KAG': 15.38, 'KAH': 496.97, 'KAI': 30.58, 'KAJ': 45.64, 'KAK': 30.58, 'KAL': 45.58, 'KAM': 45.25, 'KAN': 129.77, 'KAO': 12.28, 'KAP': 25.04, 'KAQ': 13.46, 'KAR': 16.6}\n"
     ]
    },
    {
     "data": {
      "application/vnd.jupyter.widget-view+json": {
       "model_id": "5dd1d708f3374241b61816deebff9205",
       "version_major": 2,
       "version_minor": 0
      },
      "text/plain": [
       "NGLWidget()"
      ]
     },
     "metadata": {},
     "output_type": "display_data"
    }
   ],
   "source": [
    "# Visualize cavity (blue) and surface (red) points \n",
    "\n",
    "# Create NGL Viewer widget\n",
    "view = nglview.NGLWidget()\n",
    "\n",
    "# Add protein\n",
    "p1 = view.add_component(pdb)\n",
    "p1.clear()\n",
    "p1.add_cartoon(color='grey')\n",
    "# Uncomment to add transparency to cartoon representation and comment the line above\n",
    "# p1.add_cartoon(color='grey', opacity=0.5) \n",
    "\n",
    "# Add cavities\n",
    "p2 = view.add_component(cavities)\n",
    "p2.clear()\n",
    "p2.add_point(selection='.HA', color='red')\n",
    "p2.add_point(selection='.H', color='blue')\n",
    "\n",
    "# Show volume and area\n",
    "print('Volume: ', end='')\n",
    "print(results['RESULTS']['VOLUME'])\n",
    "print('Area: ', end='')\n",
    "print(results['RESULTS']['AREA'])\n",
    "\n",
    "# Show\n",
    "view"
   ]
  },
  {
   "cell_type": "code",
   "execution_count": 6,
   "metadata": {},
   "outputs": [],
   "source": [
    "# Change camera\n",
    "view.camera = 'orthographic'\n",
    "\n",
    "# Rotate\n",
    "rotate_view(view, 210, 0, 90)\n",
    "\n",
    "# Save Image\n",
    "view.download_image(\n",
    "    'cavities.png',\n",
    "    factor=10,\n",
    "    trim=True,\n",
    "    transparent=True\n",
    ")"
   ]
  },
  {
   "cell_type": "markdown",
   "metadata": {},
   "source": [
    "# Visualization of interface residues surrounding a target cavity"
   ]
  },
  {
   "cell_type": "code",
   "execution_count": 7,
   "metadata": {
    "scrolled": true
   },
   "outputs": [
    {
     "name": "stdout",
     "output_type": "stream",
     "text": [
      "Interface residues: [['49', 'E', 'LEU'], ['50', 'E', 'GLY'], ['51', 'E', 'THR'], ['52', 'E', 'GLY'], ['53', 'E', 'SER'], ['54', 'E', 'PHE'], ['55', 'E', 'GLY'], ['56', 'E', 'ARG'], ['57', 'E', 'VAL'], ['70', 'E', 'ALA'], ['72', 'E', 'LYS'], ['74', 'E', 'LEU'], ['84', 'E', 'GLN'], ['87', 'E', 'HIS'], ['88', 'E', 'THR'], ['91', 'E', 'GLU'], ['104', 'E', 'VAL'], ['120', 'E', 'MET'], ['121', 'E', 'GLU'], ['122', 'E', 'TYR'], ['123', 'E', 'VAL'], ['127', 'E', 'GLU'], ['166', 'E', 'ASP'], ['168', 'E', 'LYS'], ['170', 'E', 'GLU'], ['171', 'E', 'ASN'], ['173', 'E', 'LEU'], ['183', 'E', 'THR'], ['184', 'E', 'ASP'], ['186', 'E', 'GLY'], ['187', 'E', 'PHE'], ['201', 'E', 'THR'], ['327', 'E', 'PHE']]\n"
     ]
    },
    {
     "data": {
      "application/vnd.jupyter.widget-view+json": {
       "model_id": "03c07028f1aa4fb4bbfde78f2a0e2f47",
       "version_major": 2,
       "version_minor": 0
      },
      "text/plain": [
       "NGLWidget()"
      ]
     },
     "metadata": {},
     "output_type": "display_data"
    }
   ],
   "source": [
    "# Visualize interface residues (red licorice)\n",
    "\n",
    "# Define the tag of the cavity you want to see \n",
    "tag = 'KAH'\n",
    "\n",
    "# Create NGL Viewer widget\n",
    "view = nglview.NGLWidget()\n",
    "\n",
    "# Add protein\n",
    "p1 = view.add_component(pdb)\n",
    "p1.clear()\n",
    "p1.add_cartoon(color='grey')\n",
    "# Uncomment to add transparency to cartoon representation and comment the line above\n",
    "# p1.add_cartoon(color='grey', opacity=0.5)\n",
    "\n",
    "# Select interface residues\n",
    "selection = f\"{' or '.join([f'({sel[0]} and :{sel[1]})' for sel in results['RESULTS']['RESIDUES'][tag]])}\"\n",
    "\n",
    "# Add interface residues\n",
    "p1.add_licorice(color='red', selection=selection)\n",
    "\n",
    "# Add cavities\n",
    "p2 = view.add_component(cavities)\n",
    "p2.clear()\n",
    "p2.add_surface(selection='KAH', color='white', opacity=0.5, surfaceType='vws', probeRadius=0.3)\n",
    "\n",
    "# Show list of interface residues\n",
    "print('Interface residues: ', end='')\n",
    "print(results['RESULTS']['RESIDUES'][tag])\n",
    "\n",
    "# Show\n",
    "view"
   ]
  },
  {
   "cell_type": "code",
   "execution_count": 8,
   "metadata": {},
   "outputs": [],
   "source": [
    "# Change camera\n",
    "view.camera = 'orthographic'\n",
    "\n",
    "# Rotate\n",
    "rotate_view(view, 210, 0, 90)\n",
    "\n",
    "# Save Image\n",
    "view.download_image(\n",
    "    'interface-residues.png',\n",
    "    factor=10,\n",
    "    trim=True,\n",
    "    transparent=True\n",
    ")"
   ]
  },
  {
   "cell_type": "markdown",
   "metadata": {},
   "source": [
    "# Visualization of depth mapped on cavities"
   ]
  },
  {
   "cell_type": "code",
   "execution_count": 9,
   "metadata": {
    "scrolled": true
   },
   "outputs": [
    {
     "name": "stdout",
     "output_type": "stream",
     "text": [
      "Maximum depth: {'KAA': 3.79, 'KAB': 2.68, 'KAC': 2.62, 'KAD': 0.85, 'KAE': 3.0, 'KAF': 0.85, 'KAG': 0.6, 'KAH': 10.73, 'KAI': 0.0, 'KAJ': 2.24, 'KAK': 0.0, 'KAL': 3.0, 'KAM': 1.2, 'KAN': 0.0, 'KAO': 1.04, 'KAP': 2.08, 'KAQ': 0.85, 'KAR': 0.6}\n",
      "Average depth: {'KAA': 1.35, 'KAB': 0.91, 'KAC': 0.68, 'KAD': 0.32, 'KAE': 0.99, 'KAF': 0.24, 'KAG': 0.1, 'KAH': 3.91, 'KAI': 0.0, 'KAJ': 0.96, 'KAK': 0.0, 'KAL': 1.07, 'KAM': 0.24, 'KAN': 0.0, 'KAO': 0.29, 'KAP': 0.7, 'KAQ': 0.22, 'KAR': 0.12}\n"
     ]
    },
    {
     "data": {
      "application/vnd.jupyter.widget-view+json": {
       "model_id": "93528e47d5ae46a08c969134555c10e3",
       "version_major": 2,
       "version_minor": 0
      },
      "text/plain": [
       "NGLWidget()"
      ]
     },
     "metadata": {},
     "output_type": "display_data"
    }
   ],
   "source": [
    "# Visualize depth of cavity points (rainbow scale)\n",
    "\n",
    "# Create NGL Viewer widget\n",
    "view = nglview.NGLWidget()\n",
    "\n",
    "# Check if depth characterization was performed\n",
    "if ('MAX_DEPTH' and 'AVG_DEPTH') in results['RESULTS'].keys():\n",
    "    # Add protein\n",
    "    p1 = view.add_component(pdb)\n",
    "    p1.clear()\n",
    "    p1.add_cartoon(color='grey')\n",
    "    # Uncomment to add transparency to cartoon representation and comment the line above\n",
    "    # p1.add_cartoon(color='grey', opacity=0.5)\n",
    "\n",
    "    # Add depth cavities\n",
    "    p3 = view.add_component(cavities)\n",
    "    p3.clear()\n",
    "    p3.add_surface(colorScheme='bfactor', colorScale='rainbow', colorReverse=True, surfaceType='vws', probeRadius=0.3)\n",
    "    # Uncomment to visualize cavities as points instead of surface and comment the line above\n",
    "    # p3.add_point(colorScheme='bfactor',colorScale='rainbow')\n",
    "\n",
    "    # Show maximum and average depth\n",
    "    print('Maximum depth: ', end='')\n",
    "    print(results['RESULTS']['MAX_DEPTH'])\n",
    "    print('Average depth: ', end='')\n",
    "    print(results['RESULTS']['AVG_DEPTH'])\n",
    "\n",
    "# Show\n",
    "view"
   ]
  },
  {
   "cell_type": "code",
   "execution_count": 10,
   "metadata": {},
   "outputs": [
    {
     "data": {
      "image/png": "[encoded data removed]",
      "text/plain": [
       "<Figure size 3000x150 with 1 Axes>"
      ]
     },
     "metadata": {
      "needs_background": "light"
     },
     "output_type": "display_data"
    }
   ],
   "source": [
    "# Plot depth scale\n",
    "fig, ax = plt.subplots(figsize=(10, 0.5), dpi=300)\n",
    "norm = mpl.colors.Normalize(vmin=0, vmax=max(results['RESULTS']['MAX_DEPTH'].values()))\n",
    "cb1 = mpl.colorbar.ColorbarBase(ax, cmap=plt.get_cmap('rainbow'), norm=norm, orientation='horizontal')\n",
    "cb1.set_label(r'Depth ($\\AA$)')"
   ]
  },
  {
   "cell_type": "code",
   "execution_count": 11,
   "metadata": {},
   "outputs": [],
   "source": [
    "# Change camera\n",
    "view.camera = 'orthographic'\n",
    "\n",
    "# Rotate\n",
    "rotate_view(view, 210, 0, 90)\n",
    "\n",
    "# Save Image\n",
    "view.download_image(\n",
    "    'depth.png',\n",
    "    factor=10,\n",
    "    trim=True,\n",
    "    transparent=True\n",
    ")"
   ]
  },
  {
   "cell_type": "markdown",
   "metadata": {},
   "source": [
    "# Visualization of hydropathy mapped on surface points"
   ]
  },
  {
   "cell_type": "code",
   "execution_count": 12,
   "metadata": {
    "scrolled": false
   },
   "outputs": [
    {
     "name": "stdout",
     "output_type": "stream",
     "text": [
      "Average hydropathy: {'KAA': -0.73, 'KAB': -0.05, 'KAC': -0.07, 'KAD': -0.62, 'KAE': -0.81, 'KAF': -0.14, 'KAG': -0.33, 'KAH': -0.18, 'KAI': -0.4, 'KAJ': 0.62, 'KAK': -0.99, 'KAL': 0.36, 'KAM': -0.33, 'KAN': 0.18, 'KAO': 0.88, 'KAP': -0.96, 'KAQ': 0.48, 'KAR': 0.24, 'EisenbergWeiss': [-1.42, 2.6]}\n"
     ]
    },
    {
     "data": {
      "application/vnd.jupyter.widget-view+json": {
       "model_id": "e15001f9a2e94f50ba04d5f8d2e24a8b",
       "version_major": 2,
       "version_minor": 0
      },
      "text/plain": [
       "NGLWidget()"
      ]
     },
     "metadata": {},
     "output_type": "display_data"
    }
   ],
   "source": [
    "# Visualize hydropathy of cavity points (yellow-white-blue scale)\n",
    "\n",
    "# Create NGL Viewer widget\n",
    "view = nglview.NGLWidget()\n",
    "\n",
    "# Check if hydropathy characterization was performed\n",
    "if hydropathy:\n",
    "    # Add protein\n",
    "    p1 = view.add_component(pdb)\n",
    "    p1.clear()\n",
    "    p1.add_cartoon(color='grey')\n",
    "    # Uncomment to add transparency to cartoon representation and comment the line above\n",
    "    # p1.add_cartoon(color='grey', opacity=0.5)\n",
    "\n",
    "    # Add hydrophobicity scale cavities\n",
    "    p4 = view.add_component(hydropathy)\n",
    "    p4.clear()\n",
    "    p4.add_surface(colorScheme='bfactor', colorMode='rgb', colorScale=[0xFFFF00, 0xffffff, 0x0000FF], surfaceType='vws', probeRadius=0.3)\n",
    "    # Uncomment to visualize cavities as points instead of surface and comment the line above\n",
    "    # p4.add_point(colorScheme='bfactor', colorMode='rgb', colorScale=[0xFFFF00, 0xffffff, 0x0000FF])\n",
    "\n",
    "    # Show average hydropathy\n",
    "    print('Average hydropathy: ', end='')\n",
    "    print(results['RESULTS']['AVG_HYDROPATHY'])\n",
    "\n",
    "# Show\n",
    "view"
   ]
  },
  {
   "cell_type": "code",
   "execution_count": 13,
   "metadata": {},
   "outputs": [
    {
     "data": {
      "image/png": "[encoded data removed]",
      "text/plain": [
       "<Figure size 3000x150 with 1 Axes>"
      ]
     },
     "metadata": {
      "needs_background": "light"
     },
     "output_type": "display_data"
    }
   ],
   "source": [
    "# Plot hydropathy scale\n",
    "fig, ax = plt.subplots(figsize=(10, 0.5), dpi=300)\n",
    "norm = mpl.colors.Normalize(vmin=results['RESULTS']['AVG_HYDROPATHY']['EisenbergWeiss'][0], vmax=results['RESULTS']['AVG_HYDROPATHY']['EisenbergWeiss'][1])\n",
    "cm = mpl.colors.LinearSegmentedColormap.from_list('hydropathy', colors=[\"#FFFF00\", \"#ffffff\", \"#0000FF\"])\n",
    "cb1 = mpl.colorbar.ColorbarBase(ax, cmap=cm, norm=norm, orientation='horizontal')\n",
    "cb1.set_label('Hydropathy')"
   ]
  },
  {
   "cell_type": "code",
   "execution_count": 14,
   "metadata": {},
   "outputs": [],
   "source": [
    "# Change camera\n",
    "view.camera = 'orthographic'\n",
    "\n",
    "# Rotate\n",
    "rotate_view(view, 210, 0, 90)\n",
    "\n",
    "# Save Image\n",
    "view.download_image(\n",
    "    'hydropathy.png',\n",
    "    factor=10,\n",
    "    trim=True,\n",
    "    transparent=True\n",
    ")"
   ]
  }
 ],
 "metadata": {
  "kernelspec": {
   "display_name": "Python 3 (ipykernel)",
   "language": "python",
   "name": "python3"
  },
  "language_info": {
   "codemirror_mode": {
    "name": "ipython",
    "version": 3
   },
   "file_extension": ".py",
   "mimetype": "text/x-python",
   "name": "python",
   "nbconvert_exporter": "python",
   "pygments_lexer": "ipython3",
   "version": "3.9.7"
  }
 },
 "nbformat": 4,
 "nbformat_minor": 4
}
