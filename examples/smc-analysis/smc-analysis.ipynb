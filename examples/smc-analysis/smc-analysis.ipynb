{
 "cells": [
  {
   "cell_type": "markdown",
   "id": "cdcd2699",
   "metadata": {},
   "source": [
    "# Supramolecular cage analysis\n",
    "\n",
    "In this Jupyter notebook, we will perform a supramolecular cage analysis of a host-guest pair (CSD Identifier: [718469](https://www.ccdc.cam.ac.uk/structures/Search?Ccdcid=718469)) consisting of HOMRUX (the host) and BnNMe3 (the guest). The original X-ray diffraction (XRD) structure of the complex was obtained from the Cambridge Structural Database (CSD), and any non-cage atoms and fragments were removed using Diamond Crystal and Molecular Structure Visualization software.\n",
    "\n",
    "Supramolecular cages have important applications in areas such as drug delivery, catalysis, and materials science, and understanding their properties and behavior is of great interest. One important aspect of analyzing these systems is the identification of cavities within the host molecule, which can play a key role in determining the guest encapsulation behavior. \n",
    "\n",
    "To this end, we will use pyKVFinder, a software package that employs a geometric algorithm, to identify cavities in molecular structures and calculate the van der Waals volume of the guest molecule.\n",
    "\n",
    "To assess the performance of any cavity detection software, the calculated volumes must be compared to the “real” cavity volume, a value that cannot be determined by experimental methods. So, we are taking advantage of Rebek’s rule of thumb: in any (biological and artificial) host-guest system, the guest occupies 55% of the available space within the cavity, when guest encapsulation is only driven by weak interactions (e.g., dipole-dipole, dipole-induced dipole, London dispersion forces)."
   ]
  },
  {
   "cell_type": "markdown",
   "id": "e8f27ed4",
   "metadata": {},
   "source": [
    "## Requirements"
   ]
  },
  {
   "cell_type": "code",
   "execution_count": 1,
   "id": "02a99442",
   "metadata": {},
   "outputs": [
    {
     "data": {
      "application/vnd.jupyter.widget-view+json": {
       "model_id": "2eff55442a9047df8a479321bee05a33",
       "version_major": 2,
       "version_minor": 0
      },
      "text/plain": []
     },
     "metadata": {},
     "output_type": "display_data"
    }
   ],
   "source": [
    "# Import required modules\n",
    "import os\n",
    "import nglview\n",
    "import zipfile\n",
    "import pyKVFinder"
   ]
  },
  {
   "cell_type": "code",
   "execution_count": 2,
   "id": "8f8e3c28",
   "metadata": {},
   "outputs": [],
   "source": [
    "# Unzip required files\n",
    "if not os.path.isdir('./data'):\n",
    "    with zipfile.ZipFile('./data.zip', 'r') as zipped:\n",
    "        zipped.extractall('./data')"
   ]
  },
  {
   "cell_type": "markdown",
   "id": "1d60a43c",
   "metadata": {},
   "source": [
    "## Host's cavity detection and volume characterization"
   ]
  },
  {
   "cell_type": "code",
   "execution_count": 3,
   "id": "99c9cfa2",
   "metadata": {},
   "outputs": [],
   "source": [
    "# Cavity detection parameters\n",
    "step = 0.25\n",
    "probe_out = 10.0\n",
    "removal_distance = 1.75\n",
    "volume_cutoff = 5.0"
   ]
  },
  {
   "cell_type": "code",
   "execution_count": 4,
   "id": "6cd2094c",
   "metadata": {},
   "outputs": [
    {
     "name": "stdout",
     "output_type": "stream",
     "text": [
      "Cavity volume: 283.14 Å³\n"
     ]
    }
   ],
   "source": [
    "# Host filepath\n",
    "host = './data/HOMRUX.pdb'\n",
    "\n",
    "# Atomic information\n",
    "atomic = pyKVFinder.read_pdb(host)\n",
    "\n",
    "# Grid dimensions\n",
    "vertices = pyKVFinder.get_vertices(atomic, probe_out=probe_out, step=step)\n",
    "\n",
    "# Cavity detection\n",
    "ncav, cavities = pyKVFinder.detect(\n",
    "    atomic,\n",
    "    vertices,\n",
    "    step=step,\n",
    "    probe_out=probe_out,\n",
    "    removal_distance=removal_distance,\n",
    "    volume_cutoff=volume_cutoff,\n",
    ")\n",
    "\n",
    "# Spatial characterization\n",
    "surface, cavity_volume, area = pyKVFinder.spatial(cavities, step=step)\n",
    "\n",
    "# Depth characteriation\n",
    "depths, max_depth, avg_depth = pyKVFinder.depth(cavities, step=step)\n",
    "\n",
    "# Export cavity\n",
    "pyKVFinder.export('./results/host-cavity.pdb', cavities, surface, vertices, step=step, B=depths)\n",
    "\n",
    "# Show volume\n",
    "print(f\"Cavity volume: {cavity_volume['KAA']} Å³\")"
   ]
  },
  {
   "cell_type": "code",
   "execution_count": 5,
   "id": "1a9b2b5a",
   "metadata": {
    "scrolled": true
   },
   "outputs": [
    {
     "data": {
      "application/vnd.jupyter.widget-view+json": {
       "model_id": "49e79ea1f3ab4f9e8c93d0586f46cab1",
       "version_major": 2,
       "version_minor": 0
      },
      "text/plain": [
       "NGLWidget()"
      ]
     },
     "metadata": {},
     "output_type": "display_data"
    }
   ],
   "source": [
    "# Visualize the host cavity\n",
    "\n",
    "# Create NGL Viewer widget\n",
    "view = nglview.NGLWidget()\n",
    "\n",
    "# Disply referece 6W02 as grey cartoon\n",
    "pdb = view.add_component(host)\n",
    "pdb.clear()\n",
    "pdb.add_licorice(color='grey')\n",
    "\n",
    "# Display surface points colored by hydrophobicity\n",
    "cavs = view.add_component('./results/host-cavity.pdb')\n",
    "cavs.clear()\n",
    "# cavs.add_point(colorScheme='bfactor', colorScale='rainbow', colorReverse=True)\n",
    "cavs.add_surface(colorScheme='bfactor', colorScale='rainbow', colorReverse=True, surfaceType='vws', probeRadius=0.125)\n",
    "\n",
    "# Display on NGL viewer\n",
    "view"
   ]
  },
  {
   "cell_type": "markdown",
   "id": "3d4a4260",
   "metadata": {},
   "source": [
    "## Guest's van der Waals volume"
   ]
  },
  {
   "cell_type": "code",
   "execution_count": 6,
   "id": "83fe361b",
   "metadata": {},
   "outputs": [],
   "source": [
    "# Guest modelling parameters\n",
    "step = 0.1\n",
    "padding = 3\n",
    "radii = {'GEN': {\"C\": 1.7, \"H\": 1.2, \"N\": 1.55, \"O\": 1.52, \"B\":1.85, \"F\":1.47, \"CL\": 1.75, \"CO\":1.8}}"
   ]
  },
  {
   "cell_type": "code",
   "execution_count": 7,
   "id": "ae841a3e",
   "metadata": {},
   "outputs": [
    {
     "name": "stdout",
     "output_type": "stream",
     "text": [
      "Guest vdW volume: 154.51 Å³\n"
     ]
    }
   ],
   "source": [
    "# Guest filepath\n",
    "guest = './data/BnNMe3.pdb'\n",
    "\n",
    "# Create Molecule\n",
    "molecule = pyKVFinder.Molecule(guest, radii=radii)\n",
    "\n",
    "# Create vdW surface representation\n",
    "molecule.vdw(step=step, padding=padding)\n",
    "\n",
    "# Calculate vdW volume\n",
    "guest_volume = molecule.volume()\n",
    "\n",
    "# Export cavity\n",
    "molecule.export('./results/guest-vdw-volume.pdb')\n",
    "\n",
    "# Show volume\n",
    "print(f\"Guest vdW volume: {guest_volume} Å³\")"
   ]
  },
  {
   "cell_type": "markdown",
   "id": "f20643a8",
   "metadata": {},
   "source": [
    "## Compare cavity and guest vdw volumes using Rebek's rule"
   ]
  },
  {
   "cell_type": "code",
   "execution_count": 8,
   "id": "3a8f9551",
   "metadata": {},
   "outputs": [
    {
     "name": "stdout",
     "output_type": "stream",
     "text": [
      "Relative Error (%): 0.8\n"
     ]
    }
   ],
   "source": [
    "# Relative error according to expected volume\n",
    "expected = guest_volume / 0.55\n",
    "calculated = cavity_volume['KAA']\n",
    "RE = (calculated - expected) / expected\n",
    "\n",
    "print(f\"Relative Error (%): {RE * 100:.1f}\")"
   ]
  }
 ],
 "metadata": {
  "kernelspec": {
   "display_name": "Python 3 (ipykernel)",
   "language": "python",
   "name": "python3"
  },
  "language_info": {
   "codemirror_mode": {
    "name": "ipython",
    "version": 3
   },
   "file_extension": ".py",
   "mimetype": "text/x-python",
   "name": "python",
   "nbconvert_exporter": "python",
   "pygments_lexer": "ipython3",
   "version": "3.10.6"
  }
 },
 "nbformat": 4,
 "nbformat_minor": 5
}
