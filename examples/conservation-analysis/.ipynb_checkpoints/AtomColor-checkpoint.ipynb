{
 "cells": [
  {
   "cell_type": "code",
   "execution_count": null,
   "metadata": {
    "collapsed": true
   },
   "outputs": [],
   "source": [
    "import os\n",
    "import nglview"
   ]
  },
  {
   "cell_type": "code",
   "execution_count": null,
   "metadata": {
    "collapsed": true
   },
   "outputs": [],
   "source": [
    "def write_pdb(pdb_file, names, coors, header='mol'):\n",
    "    \"\"\" Write given atomic coordinates to file object in pdb format \"\"\"\n",
    "    pdb_file.write('HEADER    ' + header + '\\n')\n",
    "    format = 'HETATM%5d%3s  MOL     1     %8.3f%8.3f%8.3f  1.00  0.00          %2s\\n'\n",
    "    for atom_index, (atom_name, atom_coor) in enumerate(zip(names, coors), start=1):\n",
    "        x, y, z = atom_coor\n",
    "        pdb_file.write(format % (atom_index, atom_name, x, y, z, atom_name.rjust(2)))\n",
    "    pdb_file.write('END\\n')\n",
    "    pdb_file.flush()"
   ]
  },
  {
   "cell_type": "code",
   "execution_count": null,
   "metadata": {},
   "outputs": [],
   "source": [
    "atom_names = ['C', 'H', 'O', 'N', 'F', 'Cl', 'Br', 'Li', 'Zn', 'Cu', 'Pd', 'Co']\n",
    "\n",
    "# Add atoms 4 Angstrom appart in x-axis\n",
    "atom_coors = []\n",
    "for i in range(len(atom_names)):\n",
    "    atom_coors.append([i*4, 0, 0])\n",
    "\n",
    "# Write coordinates to pdb file\n",
    "dummy_path = os.path.join(os.getcwd(), 'dummy.pdb')\n",
    "with open(dummy_path, 'w') as d:\n",
    "    write_pdb(d, atom_names, atom_coors)\n",
    "\n",
    "view = nglview.show_structure_file(dummy_path)\n",
    "view"
   ]
  },
  {
   "cell_type": "code",
   "execution_count": null,
   "metadata": {
    "collapsed": true
   },
   "outputs": [],
   "source": []
  },
  {
   "cell_type": "code",
   "execution_count": null,
   "metadata": {},
   "outputs": [],
   "source": []
  },
  {
   "cell_type": "code",
   "execution_count": null,
   "metadata": {
    "collapsed": true
   },
   "outputs": [],
   "source": []
  }
 ],
 "metadata": {
  "kernelspec": {
   "display_name": "Python 3",
   "language": "python",
   "name": "python3"
  },
  "language_info": {
   "codemirror_mode": {
    "name": "ipython",
    "version": 3
   },
   "file_extension": ".py",
   "mimetype": "text/x-python",
   "name": "python",
   "nbconvert_exporter": "python",
   "pygments_lexer": "ipython3",
   "version": "3.8.5"
  }
 },
 "nbformat": 4,
 "nbformat_minor": 1
}
